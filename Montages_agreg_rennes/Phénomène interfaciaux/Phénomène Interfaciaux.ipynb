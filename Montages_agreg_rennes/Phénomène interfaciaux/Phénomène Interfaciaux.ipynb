{
 "cells": [
  {
   "cell_type": "markdown",
   "id": "5b351603",
   "metadata": {},
   "source": [
    "# 1. Tensiométrie : Plaque de Wilhelmy"
   ]
  },
  {
   "cell_type": "markdown",
   "id": "116553b8",
   "metadata": {},
   "source": [
    "On mesure une force qui est proportionnelle à la tension de surface.\n",
    "$$F = p\\gamma$$"
   ]
  },
  {
   "cell_type": "markdown",
   "id": "a488e2ab",
   "metadata": {},
   "source": [
    "Mesures obtenues par l'expérimentateur "
   ]
  },
  {
   "cell_type": "markdown",
   "id": "b2deca20",
   "metadata": {},
   "source": [
    "$$p = 2\\pi D_{moy}$$ "
   ]
  },
  {
   "cell_type": "markdown",
   "id": "53ade9ff",
   "metadata": {},
   "source": [
    "$$D_{moy} = (D_{int} + D_{ext})/2$$"
   ]
  },
  {
   "cell_type": "markdown",
   "id": "1ebce6c4",
   "metadata": {},
   "source": [
    "$$\\gamma = \\frac{m\\times 10^{-3}}{p}~mN/m$$ \n",
    "On en tire la valeur moyenne et déviation standard\n",
    "$$\\langle\\gamma\\rangle = mean(\\gamma)$$"
   ]
  },
  {
   "cell_type": "markdown",
   "id": "e9895d17",
   "metadata": {},
   "source": [
    "## 1.1 pour de l'eau distillée à 21$^\\circ$ C"
   ]
  },
  {
   "cell_type": "code",
   "execution_count": 102,
   "id": "e14cbfca",
   "metadata": {},
   "outputs": [
    {
     "name": "stdout",
     "output_type": "stream",
     "text": [
      "0.0195\n",
      "0.12252211349000193\n",
      "[64.5, 64.9, 66.1, 63.7, 64.1, 65.3, 67.7, 65.7, 62.8]\n",
      "64.97777777777777\n",
      "1.3611904738767613\n"
     ]
    }
   ],
   "source": [
    "import numpy as np\n",
    "import matplotlib.pyplot as plt\n",
    "from scipy.optimize import curve_fit\n",
    "from sklearn.linear_model import LinearRegression \n",
    "import pandas as pd\n",
    "import matplotlib\n",
    "# le module scikit\n",
    "def setMathtextFont(fontName='Helvetica', texFontFamilies=None):\n",
    "    texFontFamilies = ['it','rm','tt','bf','cal','sf'] if texFontFamilies is None else texFontFamilies\n",
    "\n",
    "    matplotlib.rcParams.update({'mathtext.fontset': 'custom'})\n",
    "    for texFontFamily in texFontFamilies:\n",
    "        matplotlib.rcParams.update({('mathtext.%s' % texFontFamily): fontName})\n",
    "\n",
    "from matplotlib import rc\n",
    "rc('font',**{'family':'sans-serif','sans-serif':['Helvetica']})\n",
    "## for Palatino and other serif fonts use:\n",
    "#rc('font',**{'family':'serif','serif':['Palatino']})\n",
    "rc('text', usetex=True)\n",
    "# Dint = 1.7E-2 # m\n",
    "# Dext = 1.9E-2 # m\n",
    "# Dmoy = (Dint + Dext)/2\n",
    "Dmoy = 19.5E-3 # mm\n",
    "print(Dmoy)\n",
    "p = 2*np.pi*Dmoy\n",
    "print(p)\n",
    "m = [790, 795, 810, 780, 785, 800, 830, 805, 770] # mg\n",
    "gamma = [np.round(i*10E-3/p,1) for i in m] # mN/m\n",
    "print(gamma)\n",
    "gamma_mean = np.mean(gamma)\n",
    "print(gamma_mean)\n",
    "gamma_std = np.std(gamma)\n",
    "print(gamma_std)"
   ]
  },
  {
   "cell_type": "markdown",
   "id": "6f63e26e",
   "metadata": {},
   "source": [
    "## 1.2. Pour de l'éthanol à 21$^\\circ$ C"
   ]
  },
  {
   "cell_type": "code",
   "execution_count": 41,
   "id": "947e5668",
   "metadata": {},
   "outputs": [
    {
     "name": "stdout",
     "output_type": "stream",
     "text": [
      "[23.3, 22.4, 22.4, 21.2, 21.2, 21.6, 22.4]\n",
      "22.071428571428573\n",
      "0.7145713714514171\n"
     ]
    }
   ],
   "source": [
    "m = [285, 275, 275, 260, 260, 265, 275] # mg\n",
    "gamma = [np.round(i*10E-3/p,1) for i in m] # mN/m\n",
    "print(gamma)\n",
    "gamma_mean = np.mean(gamma)\n",
    "print(gamma_mean)\n",
    "gamma_std = np.std(gamma)\n",
    "print(gamma_std)"
   ]
  },
  {
   "cell_type": "markdown",
   "id": "98bd058a",
   "metadata": {},
   "source": [
    "## 1.3. Pour l'éthanol à 17.6 degrés"
   ]
  },
  {
   "cell_type": "code",
   "execution_count": 42,
   "id": "0724df84",
   "metadata": {},
   "outputs": [
    {
     "ename": "SyntaxError",
     "evalue": "invalid syntax (3289494905.py, line 6)",
     "output_type": "error",
     "traceback": [
      "\u001b[1;36m  File \u001b[1;32m\"C:\\Users\\ledou\\AppData\\Local\\Temp\\ipykernel_6964\\3289494905.py\"\u001b[1;36m, line \u001b[1;32m6\u001b[0m\n\u001b[1;33m    gamma  =\u001b[0m\n\u001b[1;37m             ^\u001b[0m\n\u001b[1;31mSyntaxError\u001b[0m\u001b[1;31m:\u001b[0m invalid syntax\n"
     ]
    }
   ],
   "source": [
    "Dmoy = 19.5E-3 # mm\n",
    "print(Dmoy)\n",
    "p = 2*np.pi*Dmoy\n",
    "print(p)\n",
    "m = [262, 265, 268, 275, 260] # mg\n",
    "gamma  = "
   ]
  },
  {
   "cell_type": "markdown",
   "id": "875d0971",
   "metadata": {},
   "source": [
    "# 2. Loi de Jurin"
   ]
  },
  {
   "cell_type": "markdown",
   "id": "c016e726",
   "metadata": {},
   "source": [
    "$$h = \\dfrac{2\\gamma}{\\rho g \\alpha x}$$\n",
    "L'idée est de mesurer la hauteur du liquide en fonction du rayon du capillaire et d'en déduire la valeur de la tension superficielle"
   ]
  },
  {
   "cell_type": "code",
   "execution_count": 111,
   "id": "b3cf1418",
   "metadata": {},
   "outputs": [
    {
     "name": "stdout",
     "output_type": "stream",
     "text": [
      "(array([0.02182208, 0.00334219]), array([[1.66685999e-09, 1.01670117e-09],\n",
      "       [1.01670117e-09, 6.89215367e-10]]))\n",
      "0.0218\n"
     ]
    },
    {
     "data": {
      "image/png": "[encoded data removed]",
      "text/plain": [
       "<Figure size 400x300 with 1 Axes>"
      ]
     },
     "metadata": {},
     "output_type": "display_data"
    }
   ],
   "source": [
    "gamma_attendu = 23.9 # mN/m\n",
    "ugamma = 0.75\n",
    "rho = 789 # kg/m3\n",
    "g = 9.81 # m/s2\n",
    "alpha =1.53E-2 # rad\n",
    "df = pd.read_csv('JurinCoin_montage071222.csv', sep = ';')\n",
    "h = df['h'] # m\n",
    "uh = df['uh'] # m\n",
    "x = df['xnew'] # m\n",
    "plt.figure(figsize=(4,3))\n",
    "# plt.plot(x,h, '+')\n",
    "plt.errorbar(x,h,yerr=uh, fmt='+')\n",
    "plt.xlabel(r'$x$ (m)')\n",
    "plt.ylabel(r'$h$ (m)')\n",
    "# scipy \n",
    "def jurin(x, ga, x0): \n",
    "    return -4.18E-3+2*ga/(rho*g*alpha*(x+x0))\n",
    "params = curve_fit(jurin, x[25:], h[25:])\n",
    "# plt.plot(x,invx(x,23E-3,0,1))\n",
    "print(params)\n",
    "ga = np.round(params[0][0],4)\n",
    "x0 = params[0][1]\n",
    "# h0 = params[2]\n",
    "print(ga)\n",
    "abscisse = np.linspace(0,90E-3,1000)\n",
    "labelfit = r\"$\\gamma$ = \" + str(ga) + \" N/m\"\n",
    "plt.plot(abscisse,jurin(abscisse,ga,x0),color='k', label = labelfit)\n",
    "plt.legend()\n",
    "plt.axis([0, 90E-3, 0, 0.06])\n",
    "plt.tight_layout()\n",
    "plt.savefig('LoiDeJurin.png', dpi =300)\n",
    "\n",
    "plt.show()\n",
    "# gamma_mesure = ga\n",
    "# print(r\"gamma = \" + str(gamma_mesure) + \"  N/m\")\n"
   ]
  },
  {
   "cell_type": "code",
   "execution_count": 99,
   "id": "265b5cd1",
   "metadata": {},
   "outputs": [
    {
     "name": "stdout",
     "output_type": "stream",
     "text": [
      "[0.0239]\n",
      "gamma = 0.0239 N/m\n"
     ]
    },
    {
     "data": {
      "image/png": "[encoded data removed]",
      "text/plain": [
       "<Figure size 640x480 with 1 Axes>"
      ]
     },
     "metadata": {},
     "output_type": "display_data"
    }
   ],
   "source": [
    "plt.figure()\n",
    "plt.plot(invr,h, 's', color = 'indigo', mfc = 'none')\n",
    "plt.xlabel(r'$1/r~ (m^{-1})$')\n",
    "plt.ylabel(r'h (m)')\n",
    "\n",
    "# modelisation\n",
    "\n",
    "# scipy \n",
    "def lineaire(x, a): \n",
    "    return 2*a*x/rho/g\n",
    "params, covs = curve_fit(lineaire, invr, h)\n",
    "print(params)\n",
    "a = np.round(params[0],8)\n",
    "#b= np.round(params[1],8)\n",
    "\n",
    "abscisse = np.linspace(200,1100,10000)\n",
    "labelfit = r\"$\\gamma$ = \" + str(a) + \"N/m\"\n",
    "plt.plot(abscisse,lineaire(abscisse,a),color='k', label = labelfit)\n",
    "plt.legend()\n",
    "\n",
    "gamma_mesure = g\n",
    "print(r\"gamma = \" + str(gamma_mesure) + \" N/m\")"
   ]
  },
  {
   "cell_type": "markdown",
   "id": "78afccd8",
   "metadata": {},
   "source": [
    "# 3. Instabilité de Rayleigh Taylor\n"
   ]
  },
  {
   "cell_type": "markdown",
   "id": "a70411b5",
   "metadata": {},
   "source": [
    "$$L = 2\\pi \\sqrt{\\frac{\\gamma}{\\Delta\\rho g}}$$"
   ]
  },
  {
   "cell_type": "markdown",
   "id": "54b17f3f",
   "metadata": {},
   "source": [
    "On mesure L et on compare à L attendu "
   ]
  },
  {
   "cell_type": "code",
   "execution_count": null,
   "id": "0e9bef49",
   "metadata": {},
   "outputs": [],
   "source": [
    "$L_{huile d'olive} = 1.12E-2~m$\n",
    "$L_{eau pure} = $"
   ]
  }
 ],
 "metadata": {
  "kernelspec": {
   "display_name": "Python 3 (ipykernel)",
   "language": "python",
   "name": "python3"
  },
  "language_info": {
   "codemirror_mode": {
    "name": "ipython",
    "version": 3
   },
   "file_extension": ".py",
   "mimetype": "text/x-python",
   "name": "python",
   "nbconvert_exporter": "python",
   "pygments_lexer": "ipython3",
   "version": "3.9.13"
  }
 },
 "nbformat": 4,
 "nbformat_minor": 5
}
